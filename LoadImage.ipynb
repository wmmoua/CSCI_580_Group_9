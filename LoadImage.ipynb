{
 "cells": [
  {
   "cell_type": "markdown",
   "metadata": {},
   "source": [
    "# Setup Image Dataset with PyTorch\n",
    "\n",
    "This is the sample code of loading the MNIST dataset. You need to have the Pytorch successfull installed.\n",
    "\n",
    "There is also sample code to manually construct a simple neural network and carry out the feedforward process."
   ]
  },
  {
   "cell_type": "code",
   "execution_count": 8,
   "metadata": {},
   "outputs": [],
   "source": [
    "# Import necessary packages\n",
    "\n",
    "%matplotlib inline\n",
    "%config InlineBackend.figure_format = 'retina'\n",
    "\n",
    "import numpy as np\n",
    "import torch\n",
    "\n",
    "#import helper\n",
    "\n",
    "import matplotlib.pyplot as plt"
   ]
  },
  {
   "cell_type": "markdown",
   "metadata": {},
   "source": [
    "## 1. Load Images\n",
    "\n",
    "Now we're going to build a larger network that can solve a (formerly) difficult problem, identifying text in an image. Here we'll use the MNIST dataset which consists of greyscale handwritten digits. Each image is 28x28 pixels, you can see a sample below\n",
    "\n",
    "<img src='assets/mnist.png'>\n",
    "\n",
    "Our goal is to build a neural network that can take one of these images and predict the digit in the image.\n",
    "\n",
    "First up, we need to get our dataset. This is provided through the `torchvision` package. The code below will download the MNIST dataset, then create training and test datasets for us. The dataset's name is MNIST, this code downloads that dataset to a local folder of your choice, in this example, it is ~/.pytorch/MNIST_dadta/."
   ]
  },
  {
   "cell_type": "code",
   "execution_count": 12,
   "metadata": {},
   "outputs": [],
   "source": [
    "### Run this cell\n",
    "\n",
    "from torchvision import datasets, transforms\n",
    "\n",
    "# Define a transform to normalize the data\n",
    "transform = transforms.Compose([transforms.ToTensor(),\n",
    "                              transforms.Normalize((0.5,), (0.5,)),\n",
    "                              ])\n",
    "\n",
    "# Download and load the training data\n",
    "trainset = datasets.MNIST('~/.pytorch/MNIST_data/', download=True, train=True, transform=transform)\n",
    "trainloader = torch.utils.data.DataLoader(trainset, batch_size=64, shuffle=True)"
   ]
  },
  {
   "cell_type": "markdown",
   "metadata": {},
   "source": [
    "## 2. Datasets and Batches\n",
    "\n",
    "We have the training data loaded into `trainset`, and the dataset is loaded batches (`trainloader`). We make that an iterator with `iter(trainloader)`. Later, we'll use this to loop through the dataset for training, like\n",
    "\n",
    "```python\n",
    "for image, label in trainloader:\n",
    "    ## do things with images and labels\n",
    "```\n",
    "\n",
    "You'll notice I created the `trainloader` with a batch size of 64, and `shuffle=True`. The batch size is the number of images we get in one iteration from the data loader and pass through our network, often called a *batch*. And `shuffle=True` tells it to shuffle the dataset every time we start going through the data loader again. But here I'm just grabbing the first batch so we can check out the data. We can see below that `images` is just a tensor with size `(64, 1, 28, 28)`. So there are 64 images per batch, with every image having 1 color channel(monochrom, gray scale), and of size 28x28."
   ]
  },
  {
   "cell_type": "code",
   "execution_count": 14,
   "metadata": {},
   "outputs": [
    {
     "name": "stdout",
     "output_type": "stream",
     "text": [
      "Total number of images in the trainset: 60000\n",
      "Total number of batches: 938\n",
      "Data type of images: <class 'torch.Tensor'>\n",
      "Shape of images: torch.Size([64, 1, 28, 28])\n",
      "Shape of labels: torch.Size([64])\n"
     ]
    }
   ],
   "source": [
    "print('Total number of images in the trainset:', len(trainset))\n",
    "print('Total number of batches:', len(trainloader))\n",
    "dataiter = iter(trainloader)\n",
    "images, labels = dataiter.__next__()\n",
    "print('Data type of images:', type(images))\n",
    "print('Shape of images:', images.shape)\n",
    "print('Shape of labels:', labels.shape)"
   ]
  },
  {
   "cell_type": "markdown",
   "metadata": {},
   "source": [
    "## 3. Visualize the Images\n",
    "\n",
    "This is what one of the images looks like. `i` can be 0 to 63"
   ]
  },
  {
   "cell_type": "code",
   "execution_count": 89,
   "metadata": {},
   "outputs": [
    {
     "name": "stdout",
     "output_type": "stream",
     "text": [
      "tensor(8)\n",
      "torch.Size([784])\n",
      "torch.Size([784])\n",
      "torch.Size([64, 784])\n"
     ]
    },
    {
     "data": {
      "image/png": "[encoded data removed]",
      "text/plain": [
       "<Figure size 640x480 with 1 Axes>"
      ]
     },
     "metadata": {
      "image/png": {
       "height": 413,
       "width": 416
      }
     },
     "output_type": "display_data"
    }
   ],
   "source": [
    "i = 6\n",
    "plt.imshow(images[i].numpy().squeeze(), cmap='Greys_r');\n",
    "print(labels[i])\n",
    "print(images[i].flatten().shape)\n",
    "print(torch.flatten(images[i]).shape)\n",
    "print(images.view(images.shape[0], -1).shape)"
   ]
  },
  {
   "cell_type": "markdown",
   "metadata": {},
   "source": [
    "## 5. More Experiment with DataLoader\n",
    "\n",
    "DataLoader is the PyTorch API that prepares the traning data (`trainloader`) for us\n",
    "\n",
    "Here is more about DataLoader. Try to play with this code, find out:\n",
    "- how to control the total number of images you want to use for training\n",
    "- how to configure the batch size"
   ]
  },
  {
   "cell_type": "code",
   "execution_count": 40,
   "metadata": {},
   "outputs": [
    {
     "name": "stdout",
     "output_type": "stream",
     "text": [
      "images.shape: torch.Size([64, 1, 28, 28]), labels.shape: torch.Size([64])\n",
      "batch idx96, batch len 10\n",
      "batch idx97, batch len 10\n",
      "batch idx98, batch len 10\n",
      "batch idx99, batch len 10\n",
      "batch idx100, batch len 1\n",
      "Here is if we drop the last one while loading:\n",
      "batch idx96, batch len 10\n",
      "batch idx97, batch len 10\n",
      "batch idx98, batch len 10\n",
      "batch idx99, batch len 10\n"
     ]
    }
   ],
   "source": [
    "for images, labels in trainloader:\n",
    "    print('images.shape: {}, labels.shape: {}'.format(images.shape, labels.shape))\n",
    "    break;\n",
    "\n",
    "# The following is to illustrate the use of dataloader, with batch_size and drop_last\n",
    "from torch.utils.data import Dataset, DataLoader\n",
    "class MyDataset(Dataset):\n",
    "    def __init__(self, size):\n",
    "        self.x = torch.randn(size, 1)\n",
    "    \n",
    "    def __getitem__(self, index):\n",
    "        return self.x[index]\n",
    "\n",
    "    def __len__(self):\n",
    "        return len(self.x)\n",
    "\n",
    "dataset = MyDataset(1001)\n",
    "data_loader = DataLoader(dataset, batch_size=10)\n",
    "len(data_loader)\n",
    "for batch_idx, data in enumerate(data_loader):\n",
    "    if (batch_idx>95):\n",
    "        print ('batch idx{}, batch len {}'.format(batch_idx, len(data)))\n",
    "\n",
    "print ('Here is if we drop the last one while loading:')\n",
    "\n",
    "data_loader = DataLoader(dataset, batch_size=10, drop_last=True)\n",
    "len(data_loader)\n",
    "for batch_idx, data in enumerate(data_loader):\n",
    "    if (batch_idx>95):\n",
    "        print ('batch idx{}, batch len {}'.format(batch_idx, len(data)))\n"
   ]
  },
  {
   "cell_type": "markdown",
   "metadata": {},
   "source": [
    "## 6. Manual Construction of a Neural Network\n",
    "\n",
    "Experiment with manually implementation of setting weight matrices and using them for matrix multiplication to compute the prediction. No training is carried out here, this is just to show how the feedforward process is done.\n",
    "\n",
    "The networks you've seen so far are called *fully-connected* or *dense* networks. Each unit in one layer is connected to each unit in the next layer. In fully-connected networks, the input to each layer must be a one-dimensional vector (which can be stacked into a 2D tensor as a batch of multiple examples). However, our images are 28x28 2D tensors, so we need to convert them into 1D vectors. Thinking about sizes, we need to convert the batch of images with shape `(64, 1, 28, 28)` to a have a shape of `(64, 784)`, 784 is 28 times 28. This is typically called *flattening*, we flattened the 2D images into 1D vectors.\n",
    "\n",
    "Previously you built a network with one output unit. Here we need **10 output units**, one for each digit. We want our network to predict the digit shown in an image, so what we'll do is calculate probabilities that the image is of any one digit or class. This ends up being a discrete probability distribution over the classes (digits) that tells us the most likely class for the image. That means we need 10 output units for the 10 classes (digits). We'll see how to convert the network output into a probability distribution next.\n",
    "\n",
    "> **Exercise:** Flatten the batch of images `images`. Then build a multi-layer network with 784 input units, 128 hidden units, and 10 output units using random tensors for the weights and biases. For now, use a sigmoid activation for the hidden layer. Leave the output layer without an activation, we'll add one that gives us a probability distribution next."
   ]
  },
  {
   "cell_type": "code",
   "execution_count": 83,
   "metadata": {},
   "outputs": [
    {
     "name": "stdout",
     "output_type": "stream",
     "text": [
      "Hidden layer output shape: torch.Size([64, 128])\n",
      "Output layer shape: torch.Size([64, 10])\n",
      "Output of 64 images after feedforward:\n",
      " tensor([[1.5766e-04, 9.9993e-01, 1.5382e-02, 9.9080e-01, 9.9404e-01, 8.4481e-02,\n",
      "         8.5304e-01, 9.9995e-01, 8.8996e-03, 6.9029e-05],\n",
      "        [1.6258e-01, 9.9945e-01, 8.1529e-04, 9.8204e-01, 9.9997e-01, 9.2753e-01,\n",
      "         2.5378e-01, 9.9465e-01, 2.0047e-01, 3.1440e-02],\n",
      "        [1.1696e-03, 9.9980e-01, 8.3698e-01, 9.9999e-01, 1.0000e+00, 2.0215e-01,\n",
      "         9.9871e-01, 9.9982e-01, 4.6173e-01, 2.8564e-01],\n",
      "        [9.0173e-07, 1.0000e+00, 4.3697e-01, 9.9935e-01, 9.8236e-01, 1.2578e-01,\n",
      "         9.9777e-01, 1.0000e+00, 5.4509e-04, 8.4487e-03],\n",
      "        [1.6845e-05, 3.4269e-01, 9.1873e-01, 9.6197e-01, 9.6925e-01, 8.8037e-03,\n",
      "         8.9672e-01, 9.9994e-01, 3.4675e-04, 3.2424e-04],\n",
      "        [9.3654e-02, 8.9594e-01, 6.8771e-01, 5.8418e-01, 1.0000e+00, 3.6468e-01,\n",
      "         5.7408e-02, 9.6170e-01, 9.2527e-01, 9.6029e-02],\n",
      "        [2.4336e-03, 9.9793e-01, 7.8640e-01, 9.9439e-01, 9.9568e-01, 6.3583e-01,\n",
      "         9.4349e-01, 9.9987e-01, 7.8913e-02, 4.2873e-04],\n",
      "        [4.1286e-03, 9.9985e-01, 5.1091e-02, 8.8174e-01, 9.9860e-01, 2.0159e-01,\n",
      "         8.6479e-01, 1.0000e+00, 5.7597e-07, 1.3080e-02],\n",
      "        [3.2077e-01, 9.9406e-01, 7.4694e-01, 9.9999e-01, 9.9761e-01, 3.7039e-01,\n",
      "         2.0906e-02, 7.0822e-01, 6.4130e-01, 7.9094e-05],\n",
      "        [4.8233e-03, 9.9565e-01, 9.9976e-01, 9.7880e-01, 9.9997e-01, 9.3193e-01,\n",
      "         9.9988e-01, 9.2378e-01, 1.4270e-02, 3.1174e-03],\n",
      "        [5.5826e-02, 9.9958e-01, 9.1749e-01, 9.9998e-01, 9.9997e-01, 4.7408e-01,\n",
      "         9.9780e-01, 9.9829e-01, 3.5887e-02, 2.4417e-02],\n",
      "        [1.3005e-06, 5.2256e-01, 1.7529e-02, 4.4384e-01, 9.9472e-01, 9.9961e-01,\n",
      "         9.7754e-01, 9.9999e-01, 2.7796e-02, 3.8897e-03],\n",
      "        [1.8857e-04, 9.9573e-01, 1.9222e-01, 9.9391e-01, 9.9932e-01, 7.7949e-01,\n",
      "         9.9456e-01, 9.8877e-01, 1.4052e-01, 9.7657e-01],\n",
      "        [3.5403e-05, 9.9925e-01, 5.2067e-01, 1.0000e+00, 9.4452e-01, 1.1083e-01,\n",
      "         9.9905e-01, 9.9972e-01, 1.6172e-04, 8.2895e-02],\n",
      "        [3.1324e-05, 9.9182e-01, 9.5983e-01, 9.9594e-01, 9.9714e-01, 9.9934e-01,\n",
      "         9.9183e-01, 9.9977e-01, 1.7307e-04, 4.0813e-01],\n",
      "        [3.9818e-04, 9.7774e-01, 4.4620e-03, 9.9968e-01, 1.0000e+00, 2.6959e-03,\n",
      "         2.2714e-01, 9.9987e-01, 2.4944e-06, 7.2345e-03],\n",
      "        [3.0640e-02, 9.9987e-01, 9.0841e-01, 9.9987e-01, 9.9996e-01, 6.0278e-01,\n",
      "         9.9898e-01, 9.9998e-01, 6.7139e-02, 4.0027e-02],\n",
      "        [1.3403e-01, 9.9137e-01, 1.3295e-03, 9.9264e-01, 9.9947e-01, 1.5044e-04,\n",
      "         9.6616e-01, 9.9999e-01, 9.9305e-01, 1.9549e-02],\n",
      "        [2.3395e-01, 9.9976e-01, 6.6257e-01, 9.9630e-01, 9.9981e-01, 1.0600e-01,\n",
      "         3.9073e-01, 9.9890e-01, 8.2406e-03, 4.2187e-02],\n",
      "        [4.6905e-04, 9.9973e-01, 1.7080e-01, 9.9955e-01, 9.9933e-01, 5.9659e-01,\n",
      "         9.8745e-01, 9.9987e-01, 2.1846e-02, 5.8011e-05],\n",
      "        [1.1440e-01, 9.9978e-01, 9.9864e-01, 9.9997e-01, 1.0000e+00, 1.9101e-01,\n",
      "         9.9972e-01, 9.8799e-01, 8.5069e-01, 7.1201e-01],\n",
      "        [2.0448e-06, 1.0000e+00, 4.5609e-02, 9.6023e-01, 9.9857e-01, 8.1931e-01,\n",
      "         9.9991e-01, 1.0000e+00, 9.1885e-04, 1.3748e-03],\n",
      "        [6.1003e-04, 9.9999e-01, 4.6597e-02, 9.9973e-01, 9.9998e-01, 8.5274e-01,\n",
      "         9.9643e-01, 9.8406e-01, 1.4971e-01, 1.3895e-01],\n",
      "        [3.1756e-04, 9.9871e-01, 3.6551e-01, 9.8771e-01, 9.9985e-01, 3.1344e-05,\n",
      "         9.9989e-01, 9.9999e-01, 1.2980e-03, 1.5663e-04],\n",
      "        [1.2899e-01, 9.9995e-01, 1.4480e-01, 9.9808e-01, 9.9975e-01, 6.1671e-01,\n",
      "         9.9799e-01, 9.6308e-01, 4.9860e-01, 7.6381e-01],\n",
      "        [3.2620e-03, 9.9931e-01, 1.0109e-01, 3.8196e-01, 1.0000e+00, 2.7267e-01,\n",
      "         9.9044e-01, 9.9933e-01, 3.9359e-02, 3.9848e-03],\n",
      "        [3.0561e-04, 1.0000e+00, 6.9493e-01, 9.9997e-01, 9.9970e-01, 3.7853e-04,\n",
      "         9.9990e-01, 9.9999e-01, 3.8354e-04, 1.8645e-04],\n",
      "        [1.7632e-03, 5.9465e-01, 1.4718e-01, 9.7544e-01, 9.9013e-01, 9.9917e-01,\n",
      "         5.8550e-01, 9.9891e-01, 4.0658e-04, 1.5155e-05],\n",
      "        [2.0505e-05, 9.9373e-01, 5.3089e-02, 7.7455e-01, 9.9934e-01, 9.9995e-01,\n",
      "         9.9354e-01, 9.9996e-01, 2.3788e-01, 2.4403e-04],\n",
      "        [9.5163e-01, 9.8438e-01, 9.9930e-01, 9.9983e-01, 9.9950e-01, 9.8817e-01,\n",
      "         1.6662e-01, 1.7268e-01, 3.0632e-03, 1.7251e-02],\n",
      "        [2.9585e-01, 9.7019e-03, 9.0211e-01, 9.9549e-01, 9.9755e-01, 2.4268e-02,\n",
      "         6.1646e-01, 9.9957e-01, 2.1112e-03, 9.9411e-02],\n",
      "        [3.5122e-03, 9.9996e-01, 4.1009e-03, 7.2952e-01, 9.9946e-01, 4.4565e-01,\n",
      "         5.4766e-01, 9.9999e-01, 3.0875e-03, 1.4969e-05],\n",
      "        [6.3318e-04, 9.9979e-01, 3.2265e-01, 9.9999e-01, 9.9930e-01, 8.4713e-01,\n",
      "         9.9973e-01, 3.0965e-01, 8.6101e-01, 2.0145e-01],\n",
      "        [2.7122e-03, 9.9921e-01, 7.4543e-02, 9.9962e-01, 9.9993e-01, 4.0026e-02,\n",
      "         9.8403e-01, 9.9996e-01, 3.4528e-02, 5.0527e-02],\n",
      "        [1.5220e-05, 9.9997e-01, 7.6855e-01, 9.9975e-01, 9.9997e-01, 1.4680e-02,\n",
      "         9.9946e-01, 9.9999e-01, 2.7957e-02, 1.0555e-01],\n",
      "        [3.8638e-04, 9.9826e-01, 3.0639e-02, 5.2394e-01, 9.9999e-01, 4.8889e-01,\n",
      "         9.9908e-01, 9.9991e-01, 5.5129e-03, 4.2963e-03],\n",
      "        [6.7244e-04, 9.9550e-01, 1.6931e-01, 9.9721e-01, 9.9991e-01, 5.3042e-01,\n",
      "         9.2660e-01, 9.9996e-01, 5.7073e-02, 5.7972e-04],\n",
      "        [4.3545e-07, 9.6708e-01, 2.5988e-01, 6.9346e-02, 9.9934e-01, 9.9963e-01,\n",
      "         2.1050e-01, 9.9992e-01, 8.2544e-02, 4.5315e-01],\n",
      "        [3.7815e-01, 8.8126e-01, 1.0802e-03, 1.0000e+00, 9.7979e-01, 3.7808e-04,\n",
      "         1.9886e-01, 9.8464e-01, 5.6580e-01, 7.4871e-02],\n",
      "        [1.4066e-07, 8.8823e-01, 7.7528e-01, 9.9595e-01, 9.8913e-01, 6.2117e-01,\n",
      "         7.6925e-01, 9.9998e-01, 1.2054e-02, 3.9992e-04],\n",
      "        [3.5807e-06, 9.9617e-01, 5.9492e-01, 9.8931e-01, 9.9948e-01, 4.7346e-05,\n",
      "         9.9964e-01, 9.9991e-01, 2.3582e-02, 1.8447e-03],\n",
      "        [3.9684e-02, 8.2189e-01, 9.8247e-01, 9.9846e-01, 9.9817e-01, 9.7054e-02,\n",
      "         8.4103e-02, 9.8914e-01, 8.3164e-01, 9.0644e-02],\n",
      "        [2.5865e-07, 9.9280e-01, 1.0094e-01, 9.9956e-01, 9.9936e-01, 1.0341e-01,\n",
      "         3.5233e-01, 9.9999e-01, 2.0664e-06, 8.8389e-02],\n",
      "        [2.4093e-01, 9.9853e-01, 3.4791e-01, 9.9643e-01, 9.9974e-01, 8.8860e-01,\n",
      "         9.1109e-01, 9.9998e-01, 6.1710e-03, 1.3771e-02],\n",
      "        [5.1064e-01, 9.9926e-01, 9.9905e-01, 9.9993e-01, 9.9989e-01, 1.5031e-01,\n",
      "         9.2450e-01, 9.4808e-01, 3.2411e-06, 1.8712e-03],\n",
      "        [2.0104e-06, 9.9998e-01, 7.0923e-01, 9.9942e-01, 5.1082e-01, 5.3385e-01,\n",
      "         8.0159e-01, 1.0000e+00, 1.8424e-05, 2.5815e-03],\n",
      "        [3.1192e-03, 9.9983e-01, 9.8648e-01, 7.2010e-01, 9.7566e-01, 4.8889e-02,\n",
      "         9.9964e-01, 1.0000e+00, 9.8769e-01, 4.3150e-03],\n",
      "        [8.9529e-05, 1.0000e+00, 4.0356e-01, 9.9602e-01, 9.9997e-01, 1.3208e-01,\n",
      "         9.9503e-01, 9.9980e-01, 1.3825e-04, 8.0271e-02],\n",
      "        [5.2448e-04, 9.9998e-01, 9.5358e-01, 9.8991e-01, 1.0000e+00, 1.5556e-04,\n",
      "         9.9989e-01, 9.7605e-01, 5.5092e-04, 5.1898e-02],\n",
      "        [4.9810e-02, 9.8001e-01, 5.5580e-01, 9.9020e-01, 9.9998e-01, 2.3431e-03,\n",
      "         9.9961e-01, 9.9918e-01, 1.3853e-05, 1.3690e-02],\n",
      "        [7.4167e-03, 9.9996e-01, 6.4839e-03, 9.9862e-01, 1.0000e+00, 9.6073e-03,\n",
      "         9.9948e-01, 9.9969e-01, 2.8718e-01, 1.6191e-02],\n",
      "        [2.0133e-05, 9.9733e-01, 9.0032e-01, 4.4922e-01, 9.9994e-01, 2.0360e-01,\n",
      "         9.2439e-01, 1.0000e+00, 4.7675e-03, 1.8686e-02],\n",
      "        [5.4829e-03, 9.9998e-01, 9.6504e-01, 9.4002e-01, 1.0000e+00, 1.1330e-01,\n",
      "         9.9452e-01, 9.9996e-01, 2.1741e-03, 2.4164e-03],\n",
      "        [1.1565e-01, 9.9966e-01, 9.9704e-01, 9.9995e-01, 1.0000e+00, 5.3003e-02,\n",
      "         9.9981e-01, 7.7599e-01, 5.3834e-01, 2.6757e-01],\n",
      "        [4.4026e-05, 9.9977e-01, 5.7602e-01, 9.6918e-01, 1.0000e+00, 7.6889e-05,\n",
      "         9.9993e-01, 9.9944e-01, 1.2677e-04, 3.4272e-02],\n",
      "        [6.0580e-01, 9.9995e-01, 8.3669e-01, 9.9959e-01, 9.9934e-01, 9.9200e-01,\n",
      "         5.1472e-01, 9.8706e-01, 8.1550e-01, 9.4357e-03],\n",
      "        [4.5963e-06, 9.9530e-01, 1.5493e-01, 9.9929e-01, 9.9970e-01, 2.3632e-01,\n",
      "         5.0780e-01, 1.0000e+00, 2.5488e-04, 2.0258e-03],\n",
      "        [7.3669e-02, 9.9839e-01, 2.6359e-01, 9.9998e-01, 9.9618e-01, 5.5473e-04,\n",
      "         8.5960e-01, 9.8403e-01, 8.9327e-02, 2.3760e-04],\n",
      "        [3.9758e-01, 9.9981e-01, 9.8186e-01, 9.9996e-01, 9.2248e-01, 1.3425e-01,\n",
      "         3.0045e-01, 9.8186e-01, 4.6677e-01, 4.4929e-04],\n",
      "        [2.7087e-02, 7.1846e-01, 7.8551e-02, 8.9829e-01, 9.9946e-01, 2.6359e-01,\n",
      "         3.6247e-01, 9.6977e-01, 9.8287e-04, 4.6501e-03],\n",
      "        [3.2452e-02, 9.9998e-01, 3.3116e-01, 9.9569e-01, 9.9998e-01, 5.1515e-03,\n",
      "         9.7824e-01, 9.9983e-01, 1.4892e-04, 4.4745e-04],\n",
      "        [9.7435e-08, 9.9734e-01, 9.7923e-01, 9.8512e-01, 9.9995e-01, 7.9658e-01,\n",
      "         9.9996e-01, 9.9993e-01, 1.6784e-03, 2.2028e-01],\n",
      "        [2.1866e-04, 9.9995e-01, 9.7843e-01, 1.0000e+00, 9.9999e-01, 2.6118e-03,\n",
      "         9.9930e-01, 9.9999e-01, 6.9176e-02, 2.0236e-01],\n",
      "        [2.6411e-06, 9.6403e-01, 6.0634e-03, 9.8611e-01, 9.9971e-01, 4.8323e-02,\n",
      "         7.1624e-01, 9.9997e-01, 1.1614e-04, 2.1732e-02]])\n"
     ]
    }
   ],
   "source": [
    "## Your solution\n",
    "torch.manual_seed(7) # Set the random seed so things are predictable\n",
    "\n",
    "# Define the size of each layer in our network\n",
    "n_input = 28*28      # Number of input units, must match number of input features\n",
    "n_hidden = 128       # Number of hidden units \n",
    "n_output = 10        # Number of output units\n",
    "\n",
    "# Weights for inputs to hidden layer\n",
    "W1 = torch.randn(n_input, n_hidden)\n",
    "# Weights for hidden layer to output layer\n",
    "W2 = torch.randn(n_hidden, n_output)\n",
    "\n",
    "# and bias terms for hidden and output layers\n",
    "B1 = torch.randn((1, n_hidden))\n",
    "B2 = torch.randn((1, n_output))\n",
    "\n",
    "def activation(x):\n",
    "    return 1/(1+torch.exp(-x))\n",
    "\n",
    "#Calculate the output of this network using matrix multiplication\n",
    "def output(features, weights, bias): \n",
    "    x = torch.mm(features, weights) + bias \n",
    "    return activation(x)\n",
    "\n",
    "# we need a 64x784 matrix from the original 64x1x28x28 Tensor\n",
    "# images.view(rows, cols)\n",
    "# rows = first dimension of images which is images.shape[0]\n",
    "# cols = unkown-->flatten, which is -1\n",
    "images_flatten = images.view(images.shape[0], -1) \n",
    "h = output(images_flatten, W1, B1)\n",
    "print ('Hidden layer output shape:', h.shape)\n",
    "out = output(h, W2, B2)\n",
    "print ('Output layer shape:', out.shape)\n",
    "# output of your network, should have shape (64,10)\n",
    "print('Output of 64 images after feedforward:\\n', out)"
   ]
  }
 ],
 "metadata": {
  "kernelspec": {
   "display_name": "Python 3 (ipykernel)",
   "language": "python",
   "name": "python3"
  },
  "language_info": {
   "codemirror_mode": {
    "name": "ipython",
    "version": 3
   },
   "file_extension": ".py",
   "mimetype": "text/x-python",
   "name": "python",
   "nbconvert_exporter": "python",
   "pygments_lexer": "ipython3",
   "version": "3.12.7"
  }
 },
 "nbformat": 4,
 "nbformat_minor": 4
}
